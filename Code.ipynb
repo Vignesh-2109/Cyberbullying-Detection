{
 "cells": [
  {
   "cell_type": "code",
   "execution_count": 1,
   "id": "75d94c98",
   "metadata": {},
   "outputs": [
    {
     "name": "stderr",
     "output_type": "stream",
     "text": [
      "[nltk_data] Downloading package punkt to\n",
      "[nltk_data]     C:\\Users\\vinnu\\AppData\\Roaming\\nltk_data...\n",
      "[nltk_data]   Package punkt is already up-to-date!\n",
      "[nltk_data] Downloading package stopwords to\n",
      "[nltk_data]     C:\\Users\\vinnu\\AppData\\Roaming\\nltk_data...\n",
      "[nltk_data]   Package stopwords is already up-to-date!\n"
     ]
    },
    {
     "name": "stdout",
     "output_type": "stream",
     "text": [
      "Epoch 1/30\n"
     ]
    },
    {
     "name": "stderr",
     "output_type": "stream",
     "text": [
      "C:\\Users\\vinnu\\anaconda3\\Lib\\site-packages\\keras\\src\\layers\\core\\embedding.py:90: UserWarning: Argument `input_length` is deprecated. Just remove it.\n",
      "  warnings.warn(\n"
     ]
    },
    {
     "name": "stdout",
     "output_type": "stream",
     "text": [
      "\u001b[1m239/239\u001b[0m \u001b[32m━━━━━━━━━━━━━━━━━━━━\u001b[0m\u001b[37m\u001b[0m \u001b[1m53s\u001b[0m 209ms/step - accuracy: 0.2262 - loss: 1.7856 - precision: 0.3478 - recall: 0.0039 - val_accuracy: 0.4580 - val_loss: 1.5711 - val_precision: 0.9659 - val_recall: 0.0111 - learning_rate: 1.0000e-04\n",
      "Epoch 2/30\n",
      "\u001b[1m239/239\u001b[0m \u001b[32m━━━━━━━━━━━━━━━━━━━━\u001b[0m\u001b[37m\u001b[0m \u001b[1m51s\u001b[0m 212ms/step - accuracy: 0.4311 - loss: 372648.2500 - precision: 0.8605 - recall: 0.1086 - val_accuracy: 0.5024 - val_loss: 1.4413 - val_precision: 0.9681 - val_recall: 0.1075 - learning_rate: 1.0000e-04\n",
      "Epoch 3/30\n",
      "\u001b[1m239/239\u001b[0m \u001b[32m━━━━━━━━━━━━━━━━━━━━\u001b[0m\u001b[37m\u001b[0m \u001b[1m50s\u001b[0m 207ms/step - accuracy: 0.4840 - loss: 10477375488.0000 - precision: 0.8388 - recall: 0.1958 - val_accuracy: 0.5069 - val_loss: 1.4229 - val_precision: 0.9659 - val_recall: 0.1225 - learning_rate: 1.0000e-04\n",
      "Epoch 4/30\n",
      "\u001b[1m239/239\u001b[0m \u001b[32m━━━━━━━━━━━━━━━━━━━━\u001b[0m\u001b[37m\u001b[0m \u001b[1m49s\u001b[0m 204ms/step - accuracy: 0.4902 - loss: 781379264.0000 - precision: 0.8415 - recall: 0.2048 - val_accuracy: 0.5103 - val_loss: 1.4080 - val_precision: 0.9520 - val_recall: 0.1300 - learning_rate: 1.0000e-04\n",
      "Epoch 5/30\n",
      "\u001b[1m239/239\u001b[0m \u001b[32m━━━━━━━━━━━━━━━━━━━━\u001b[0m\u001b[37m\u001b[0m \u001b[1m49s\u001b[0m 207ms/step - accuracy: 0.4930 - loss: 1.3577 - precision: 0.8632 - recall: 0.2029 - val_accuracy: 0.5142 - val_loss: 1.3863 - val_precision: 0.9517 - val_recall: 0.1445 - learning_rate: 1.0000e-04\n",
      "Epoch 6/30\n",
      "\u001b[1m239/239\u001b[0m \u001b[32m━━━━━━━━━━━━━━━━━━━━\u001b[0m\u001b[37m\u001b[0m \u001b[1m50s\u001b[0m 208ms/step - accuracy: 0.5112 - loss: 1.3197 - precision: 0.8556 - recall: 0.2294 - val_accuracy: 0.5168 - val_loss: 1.3689 - val_precision: 0.9455 - val_recall: 0.1546 - learning_rate: 1.0000e-04\n",
      "Epoch 7/30\n",
      "\u001b[1m239/239\u001b[0m \u001b[32m━━━━━━━━━━━━━━━━━━━━\u001b[0m\u001b[37m\u001b[0m \u001b[1m48s\u001b[0m 202ms/step - accuracy: 0.5099 - loss: 1.3132 - precision: 0.8416 - recall: 0.2348 - val_accuracy: 0.5170 - val_loss: 1.3534 - val_precision: 0.9393 - val_recall: 0.1642 - learning_rate: 1.0000e-04\n",
      "Epoch 8/30\n",
      "\u001b[1m239/239\u001b[0m \u001b[32m━━━━━━━━━━━━━━━━━━━━\u001b[0m\u001b[37m\u001b[0m \u001b[1m49s\u001b[0m 205ms/step - accuracy: 0.5172 - loss: 1.2910 - precision: 0.8313 - recall: 0.2526 - val_accuracy: 0.5175 - val_loss: 1.3407 - val_precision: 0.9360 - val_recall: 0.1744 - learning_rate: 1.0000e-04\n",
      "Epoch 9/30\n",
      "\u001b[1m239/239\u001b[0m \u001b[32m━━━━━━━━━━━━━━━━━━━━\u001b[0m\u001b[37m\u001b[0m \u001b[1m48s\u001b[0m 203ms/step - accuracy: 0.5175 - loss: 1.2817 - precision: 0.8354 - recall: 0.2590 - val_accuracy: 0.5174 - val_loss: 1.3286 - val_precision: 0.9339 - val_recall: 0.1833 - learning_rate: 1.0000e-04\n",
      "Epoch 10/30\n",
      "\u001b[1m239/239\u001b[0m \u001b[32m━━━━━━━━━━━━━━━━━━━━\u001b[0m\u001b[37m\u001b[0m \u001b[1m49s\u001b[0m 205ms/step - accuracy: 0.5262 - loss: 1.2671 - precision: 0.8271 - recall: 0.2724 - val_accuracy: 0.5183 - val_loss: 1.3186 - val_precision: 0.9298 - val_recall: 0.1908 - learning_rate: 1.0000e-04\n",
      "Epoch 11/30\n",
      "\u001b[1m239/239\u001b[0m \u001b[32m━━━━━━━━━━━━━━━━━━━━\u001b[0m\u001b[37m\u001b[0m \u001b[1m50s\u001b[0m 211ms/step - accuracy: 0.5266 - loss: 1.2531 - precision: 0.8216 - recall: 0.2812 - val_accuracy: 0.5193 - val_loss: 1.3097 - val_precision: 0.9257 - val_recall: 0.1975 - learning_rate: 1.0000e-04\n",
      "Epoch 12/30\n",
      "\u001b[1m239/239\u001b[0m \u001b[32m━━━━━━━━━━━━━━━━━━━━\u001b[0m\u001b[37m\u001b[0m \u001b[1m51s\u001b[0m 212ms/step - accuracy: 0.5352 - loss: 1.2427 - precision: 0.8279 - recall: 0.2910 - val_accuracy: 0.5201 - val_loss: 1.3018 - val_precision: 0.9230 - val_recall: 0.2027 - learning_rate: 1.0000e-04\n",
      "Epoch 13/30\n",
      "\u001b[1m239/239\u001b[0m \u001b[32m━━━━━━━━━━━━━━━━━━━━\u001b[0m\u001b[37m\u001b[0m \u001b[1m51s\u001b[0m 211ms/step - accuracy: 0.5267 - loss: 1.3381 - precision: 0.8194 - recall: 0.2906 - val_accuracy: 0.5195 - val_loss: 1.2966 - val_precision: 0.9173 - val_recall: 0.2065 - learning_rate: 1.0000e-04\n",
      "Epoch 14/30\n",
      "\u001b[1m239/239\u001b[0m \u001b[32m━━━━━━━━━━━━━━━━━━━━\u001b[0m\u001b[37m\u001b[0m \u001b[1m50s\u001b[0m 211ms/step - accuracy: 0.5305 - loss: 1.2465 - precision: 0.8119 - recall: 0.2936 - val_accuracy: 0.5208 - val_loss: 1.2912 - val_precision: 0.9157 - val_recall: 0.2107 - learning_rate: 1.0000e-04\n",
      "Epoch 15/30\n",
      "\u001b[1m239/239\u001b[0m \u001b[32m━━━━━━━━━━━━━━━━━━━━\u001b[0m\u001b[37m\u001b[0m \u001b[1m50s\u001b[0m 210ms/step - accuracy: 0.5387 - loss: 1.2296 - precision: 0.8178 - recall: 0.3011 - val_accuracy: 0.5202 - val_loss: 1.2867 - val_precision: 0.9129 - val_recall: 0.2157 - learning_rate: 1.0000e-04\n",
      "Epoch 16/30\n",
      "\u001b[1m239/239\u001b[0m \u001b[32m━━━━━━━━━━━━━━━━━━━━\u001b[0m\u001b[37m\u001b[0m \u001b[1m50s\u001b[0m 211ms/step - accuracy: 0.5371 - loss: 1.2181 - precision: 0.8133 - recall: 0.3072 - val_accuracy: 0.5195 - val_loss: 1.2821 - val_precision: 0.9094 - val_recall: 0.2211 - learning_rate: 1.0000e-04\n",
      "Epoch 17/30\n",
      "\u001b[1m239/239\u001b[0m \u001b[32m━━━━━━━━━━━━━━━━━━━━\u001b[0m\u001b[37m\u001b[0m \u001b[1m51s\u001b[0m 212ms/step - accuracy: 0.5463 - loss: 1.2134 - precision: 0.8122 - recall: 0.3038 - val_accuracy: 0.5189 - val_loss: 1.2783 - val_precision: 0.9071 - val_recall: 0.2264 - learning_rate: 1.0000e-04\n",
      "Epoch 18/30\n",
      "\u001b[1m239/239\u001b[0m \u001b[32m━━━━━━━━━━━━━━━━━━━━\u001b[0m\u001b[37m\u001b[0m \u001b[1m51s\u001b[0m 213ms/step - accuracy: 0.5335 - loss: 1.2215 - precision: 0.8038 - recall: 0.3021 - val_accuracy: 0.5197 - val_loss: 1.2735 - val_precision: 0.9024 - val_recall: 0.2313 - learning_rate: 1.0000e-04\n",
      "Epoch 19/30\n",
      "\u001b[1m239/239\u001b[0m \u001b[32m━━━━━━━━━━━━━━━━━━━━\u001b[0m\u001b[37m\u001b[0m \u001b[1m51s\u001b[0m 215ms/step - accuracy: 0.5446 - loss: 1.2093 - precision: 0.8121 - recall: 0.3135 - val_accuracy: 0.5208 - val_loss: 1.2705 - val_precision: 0.8964 - val_recall: 0.2347 - learning_rate: 1.0000e-04\n",
      "Epoch 20/30\n",
      "\u001b[1m239/239\u001b[0m \u001b[32m━━━━━━━━━━━━━━━━━━━━\u001b[0m\u001b[37m\u001b[0m \u001b[1m52s\u001b[0m 216ms/step - accuracy: 0.5521 - loss: 1.1981 - precision: 0.8087 - recall: 0.3237 - val_accuracy: 0.5212 - val_loss: 1.2668 - val_precision: 0.8936 - val_recall: 0.2399 - learning_rate: 1.0000e-04\n",
      "Epoch 21/30\n",
      "\u001b[1m239/239\u001b[0m \u001b[32m━━━━━━━━━━━━━━━━━━━━\u001b[0m\u001b[37m\u001b[0m \u001b[1m52s\u001b[0m 217ms/step - accuracy: 0.5449 - loss: 1.1994 - precision: 0.8096 - recall: 0.3244 - val_accuracy: 0.5221 - val_loss: 1.2645 - val_precision: 0.8900 - val_recall: 0.2416 - learning_rate: 1.0000e-04\n",
      "Epoch 22/30\n",
      "\u001b[1m239/239\u001b[0m \u001b[32m━━━━━━━━━━━━━━━━━━━━\u001b[0m\u001b[37m\u001b[0m \u001b[1m51s\u001b[0m 214ms/step - accuracy: 0.5492 - loss: 1.1952 - precision: 0.8082 - recall: 0.3232 - val_accuracy: 0.5239 - val_loss: 1.2619 - val_precision: 0.8885 - val_recall: 0.2444 - learning_rate: 1.0000e-04\n",
      "Epoch 23/30\n",
      "\u001b[1m239/239\u001b[0m \u001b[32m━━━━━━━━━━━━━━━━━━━━\u001b[0m\u001b[37m\u001b[0m \u001b[1m52s\u001b[0m 219ms/step - accuracy: 0.5425 - loss: 1.1937 - precision: 0.8062 - recall: 0.3225 - val_accuracy: 0.5240 - val_loss: 1.2599 - val_precision: 0.8887 - val_recall: 0.2458 - learning_rate: 1.0000e-04\n",
      "Epoch 24/30\n",
      "\u001b[1m239/239\u001b[0m \u001b[32m━━━━━━━━━━━━━━━━━━━━\u001b[0m\u001b[37m\u001b[0m \u001b[1m51s\u001b[0m 215ms/step - accuracy: 0.5458 - loss: 1.1951 - precision: 0.8051 - recall: 0.3236 - val_accuracy: 0.5247 - val_loss: 1.2575 - val_precision: 0.8874 - val_recall: 0.2469 - learning_rate: 1.0000e-04\n",
      "Epoch 25/30\n",
      "\u001b[1m239/239\u001b[0m \u001b[32m━━━━━━━━━━━━━━━━━━━━\u001b[0m\u001b[37m\u001b[0m \u001b[1m50s\u001b[0m 208ms/step - accuracy: 0.5519 - loss: 1.1872 - precision: 0.8065 - recall: 0.3294 - val_accuracy: 0.5248 - val_loss: 1.2553 - val_precision: 0.8852 - val_recall: 0.2486 - learning_rate: 1.0000e-04\n",
      "Epoch 26/30\n",
      "\u001b[1m239/239\u001b[0m \u001b[32m━━━━━━━━━━━━━━━━━━━━\u001b[0m\u001b[37m\u001b[0m \u001b[1m49s\u001b[0m 205ms/step - accuracy: 0.5481 - loss: 1.1785 - precision: 0.8098 - recall: 0.3322 - val_accuracy: 0.5256 - val_loss: 1.2536 - val_precision: 0.8847 - val_recall: 0.2503 - learning_rate: 1.0000e-04\n",
      "Epoch 27/30\n",
      "\u001b[1m239/239\u001b[0m \u001b[32m━━━━━━━━━━━━━━━━━━━━\u001b[0m\u001b[37m\u001b[0m \u001b[1m49s\u001b[0m 203ms/step - accuracy: 0.5494 - loss: 1.1846 - precision: 0.8044 - recall: 0.3322 - val_accuracy: 0.5254 - val_loss: 1.2522 - val_precision: 0.8838 - val_recall: 0.2521 - learning_rate: 1.0000e-04\n",
      "Epoch 28/30\n",
      "\u001b[1m239/239\u001b[0m \u001b[32m━━━━━━━━━━━━━━━━━━━━\u001b[0m\u001b[37m\u001b[0m \u001b[1m49s\u001b[0m 203ms/step - accuracy: 0.5532 - loss: 1.1794 - precision: 0.8016 - recall: 0.3320 - val_accuracy: 0.5252 - val_loss: 1.2503 - val_precision: 0.8833 - val_recall: 0.2538 - learning_rate: 1.0000e-04\n",
      "Epoch 29/30\n",
      "\u001b[1m239/239\u001b[0m \u001b[32m━━━━━━━━━━━━━━━━━━━━\u001b[0m\u001b[37m\u001b[0m \u001b[1m49s\u001b[0m 204ms/step - accuracy: 0.5491 - loss: 1.1977 - precision: 0.8068 - recall: 0.3299 - val_accuracy: 0.5248 - val_loss: 1.2491 - val_precision: 0.8836 - val_recall: 0.2555 - learning_rate: 1.0000e-04\n",
      "Epoch 30/30\n",
      "\u001b[1m239/239\u001b[0m \u001b[32m━━━━━━━━━━━━━━━━━━━━\u001b[0m\u001b[37m\u001b[0m \u001b[1m49s\u001b[0m 204ms/step - accuracy: 0.5563 - loss: 1.1660 - precision: 0.8042 - recall: 0.3392 - val_accuracy: 0.5243 - val_loss: 1.2474 - val_precision: 0.8823 - val_recall: 0.2563 - learning_rate: 1.0000e-04\n"
     ]
    },
    {
     "name": "stderr",
     "output_type": "stream",
     "text": [
      "WARNING:absl:You are saving your model as an HDF5 file via `model.save()` or `keras.saving.save_model(model)`. This file format is considered legacy. We recommend using instead the native Keras format, e.g. `model.save('my_model.keras')` or `keras.saving.save_model(model, 'my_model.keras')`. \n"
     ]
    },
    {
     "data": {
      "image/png": "[encoded data removed]",
      "text/plain": [
       "<Figure size 1000x500 with 1 Axes>"
      ]
     },
     "metadata": {},
     "output_type": "display_data"
    },
    {
     "name": "stderr",
     "output_type": "stream",
     "text": [
      "WARNING:absl:Compiled the loaded model, but the compiled metrics have yet to be built. `model.compile_metrics` will be empty until you train or evaluate the model.\n"
     ]
    },
    {
     "name": "stdout",
     "output_type": "stream",
     "text": [
      "\u001b[1m1/1\u001b[0m \u001b[32m━━━━━━━━━━━━━━━━━━━━\u001b[0m\u001b[37m\u001b[0m \u001b[1m0s\u001b[0m 248ms/step\n",
      "Text to Predict: This is a tweet about cyberbullying.\n",
      "Predicted Class: ['not_cyberbullying']\n"
     ]
    }
   ],
   "source": [
    "import pandas as pd\n",
    "import numpy as np\n",
    "import re\n",
    "import nltk\n",
    "from nltk.tokenize import word_tokenize, sent_tokenize\n",
    "from nltk.corpus import stopwords\n",
    "from nltk.stem import PorterStemmer\n",
    "from sklearn.model_selection import train_test_split\n",
    "from sklearn.preprocessing import LabelBinarizer\n",
    "from tensorflow.keras.models import Sequential, load_model\n",
    "from tensorflow.keras.layers import Embedding, GRU, Dense, Dropout\n",
    "from tensorflow.keras.optimizers import Adam\n",
    "from tensorflow.keras.metrics import Precision, Recall\n",
    "from tensorflow.keras.callbacks import EarlyStopping, ReduceLROnPlateau\n",
    "from tensorflow.keras.preprocessing.text import Tokenizer\n",
    "from tensorflow.keras.preprocessing.sequence import pad_sequences\n",
    "\n",
    "# Load the dataset\n",
    "dataset_path = 'cyberbullying_tweets.csv'\n",
    "df = pd.read_csv(dataset_path)\n",
    "\n",
    "# Clean and preprocess text\n",
    "nltk.download('punkt')\n",
    "nltk.download('stopwords')\n",
    "stemmer = PorterStemmer()\n",
    "\n",
    "def clean_and_preprocess_text(text):\n",
    "    text = re.sub(r\"http\\S+|www\\S+|https\\S+\", '', text, flags=re.MULTILINE)\n",
    "    text = re.sub(r'\\@\\w+|\\#','', text)\n",
    "    text = re.sub(r'[^a-zA-Z\\s]', '', text)\n",
    "    text = text.lower()\n",
    "    sentences = sent_tokenize(text)\n",
    "    processed_text = []\n",
    "    for sentence in sentences:\n",
    "        tokens = word_tokenize(sentence)\n",
    "        tokens = [token for token in tokens if token not in stopwords.words('english')]\n",
    "        tokens = [stemmer.stem(token) for token in tokens]\n",
    "        processed_text.extend(tokens)\n",
    "    return \" \".join(processed_text)\n",
    "\n",
    "df['cleaned_tweet_text'] = df['tweet_text'].apply(clean_and_preprocess_text)\n",
    "\n",
    "# Encode labels\n",
    "encoder = LabelBinarizer()\n",
    "y = encoder.fit_transform(df['cyberbullying_type'])\n",
    "\n",
    "# Tokenize and pad sequences\n",
    "tokenizer = Tokenizer()\n",
    "tokenizer.fit_on_texts(df['cleaned_tweet_text'])\n",
    "vocab_size = len(tokenizer.word_index) + 1\n",
    "X_sequences = tokenizer.texts_to_sequences(df['cleaned_tweet_text'])\n",
    "X_padded = pad_sequences(X_sequences, maxlen=200)\n",
    "\n",
    "# Split the data\n",
    "X_train, X_test, y_train, y_test = train_test_split(X_padded, y, test_size=0.20, random_state=42)\n",
    "\n",
    "# Load pre-trained word embeddings (e.g., GloVe)\n",
    "embeddings_index = {}\n",
    "with open('glove.6B.200d.txt', encoding='utf8') as f:\n",
    "    for line in f:\n",
    "        word, coefs = line.split(maxsplit=1)\n",
    "        coefs = np.fromstring(coefs, 'f', sep=' ')\n",
    "        embeddings_index[word] = coefs\n",
    "\n",
    "embedding_matrix = np.zeros((vocab_size, 200))\n",
    "for word, i in tokenizer.word_index.items():\n",
    "    embedding_vector = embeddings_index.get(word)\n",
    "    if embedding_vector is not None:\n",
    "        embedding_matrix[i] = embedding_vector\n",
    "\n",
    "# Build and compile the model\n",
    "model = Sequential([\n",
    "    Embedding(vocab_size, 200, weights=[embedding_matrix], input_length=200, trainable=False),\n",
    "    GRU(64, dropout=0.2, recurrent_dropout=0.2),\n",
    "    Dense(32, activation='relu'),\n",
    "    Dropout(0.5),\n",
    "    Dense(y.shape[1], activation='softmax')\n",
    "])\n",
    "\n",
    "model.compile(optimizer=Adam(learning_rate=0.0001),\n",
    "              loss='categorical_crossentropy',\n",
    "              metrics=['accuracy', Precision(name='precision'), Recall(name='recall')])\n",
    "\n",
    "# Train the model with callbacks\n",
    "early_stopping = EarlyStopping(monitor='val_loss', patience=3, mode='min', restore_best_weights=True)\n",
    "reduce_lr = ReduceLROnPlateau(monitor='val_loss', factor=0.2, patience=5, min_lr=0.00001)\n",
    "\n",
    "history = model.fit(X_train, y_train, validation_split=0.2, epochs=30, batch_size=128,\n",
    "                    callbacks=[early_stopping, reduce_lr], verbose=1)\n",
    "\n",
    "# Save the model\n",
    "model.save('Cyber_Bullying_model.h5')\n",
    "\n",
    "# Plot training history\n",
    "import matplotlib.pyplot as plt\n",
    "\n",
    "history_dict = history.history\n",
    "\n",
    "plt.figure(figsize=(10, 5))\n",
    "plt.plot(history_dict['accuracy'], label='Train Accuracy')\n",
    "plt.plot(history_dict['val_accuracy'], label='Validation Accuracy')\n",
    "plt.xlabel('Epochs')\n",
    "plt.ylabel('Accuracy')\n",
    "plt.legend()\n",
    "plt.show()\n",
    "\n",
    "# Prediction example\n",
    "def preprocess_text(text):\n",
    "    text = clean_and_preprocess_text(text)\n",
    "    sequences = tokenizer.texts_to_sequences([text])\n",
    "    padded = pad_sequences(sequences, maxlen=200)\n",
    "    return padded\n",
    "\n",
    "# Load the model for prediction\n",
    "model = load_model('Cyber_Bullying_model.h5')\n",
    "\n",
    "text_to_predict = \"This is a tweet about cyberbullying.\"\n",
    "preprocessed_text = preprocess_text(text_to_predict)\n",
    "prediction = model.predict(preprocessed_text)\n",
    "predicted_class = encoder.inverse_transform(prediction)\n",
    "\n",
    "print(\"Text to Predict:\", text_to_predict)\n",
    "print(\"Predicted Class:\", predicted_class)\n"
   ]
  },
  {
   "cell_type": "code",
   "execution_count": 16,
   "id": "6aa487d5",
   "metadata": {},
   "outputs": [
    {
     "name": "stderr",
     "output_type": "stream",
     "text": [
      "WARNING:absl:Compiled the loaded model, but the compiled metrics have yet to be built. `model.compile_metrics` will be empty until you train or evaluate the model.\n"
     ]
    },
    {
     "name": "stdout",
     "output_type": "stream",
     "text": [
      "\u001b[1m1/1\u001b[0m \u001b[32m━━━━━━━━━━━━━━━━━━━━\u001b[0m\u001b[37m\u001b[0m \u001b[1m0s\u001b[0m 266ms/step\n",
      "Text to Predict:  hi my name is karthik \n",
      "Predicted Class: ['other_cyberbullying']\n"
     ]
    }
   ],
   "source": [
    "def preprocess_text(text):\n",
    "    text = clean_and_preprocess_text(text)\n",
    "    sequences = tokenizer.texts_to_sequences([text])\n",
    "    padded = pad_sequences(sequences, maxlen=200)\n",
    "    return padded\n",
    "\n",
    "# Load the model for prediction\n",
    "model = load_model('Cyber_Bullying_model.h5')\n",
    "\n",
    "text_to_predict = \" hi my name is karthik \"\n",
    "preprocessed_text = preprocess_text(text_to_predict)\n",
    "prediction = model.predict(preprocessed_text)\n",
    "predicted_class = encoder.inverse_transform(prediction)\n",
    "\n",
    "print(\"Text to Predict:\", text_to_predict)\n",
    "print(\"Predicted Class:\", predicted_class)\n"
   ]
  },
  {
   "cell_type": "code",
   "execution_count": null,
   "id": "a909f26d",
   "metadata": {},
   "outputs": [],
   "source": []
  }
 ],
 "metadata": {
  "kernelspec": {
   "display_name": "Python 3 (ipykernel)",
   "language": "python",
   "name": "python3"
  },
  "language_info": {
   "codemirror_mode": {
    "name": "ipython",
    "version": 3
   },
   "file_extension": ".py",
   "mimetype": "text/x-python",
   "name": "python",
   "nbconvert_exporter": "python",
   "pygments_lexer": "ipython3",
   "version": "3.11.4"
  }
 },
 "nbformat": 4,
 "nbformat_minor": 5
}
